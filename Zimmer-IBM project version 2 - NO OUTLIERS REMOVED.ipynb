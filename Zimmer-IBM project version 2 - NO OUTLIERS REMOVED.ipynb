{
 "cells": [
  {
   "cell_type": "code",
   "execution_count": 1,
   "id": "6e1e0bfd",
   "metadata": {},
   "outputs": [
    {
     "data": {
      "text/html": [
       "<div>\n",
       "<style scoped>\n",
       "    .dataframe tbody tr th:only-of-type {\n",
       "        vertical-align: middle;\n",
       "    }\n",
       "\n",
       "    .dataframe tbody tr th {\n",
       "        vertical-align: top;\n",
       "    }\n",
       "\n",
       "    .dataframe thead th {\n",
       "        text-align: right;\n",
       "    }\n",
       "</style>\n",
       "<table border=\"1\" class=\"dataframe\">\n",
       "  <thead>\n",
       "    <tr style=\"text-align: right;\">\n",
       "      <th></th>\n",
       "      <th>Age</th>\n",
       "      <th>Attrition</th>\n",
       "      <th>BusinessTravel</th>\n",
       "      <th>Department</th>\n",
       "      <th>DistanceFromHome</th>\n",
       "      <th>Education</th>\n",
       "      <th>EducationField</th>\n",
       "      <th>EmployeeNumber</th>\n",
       "      <th>EnvironmentSatisfaction</th>\n",
       "      <th>Gender</th>\n",
       "      <th>JobInvolvement</th>\n",
       "      <th>JobLevel</th>\n",
       "      <th>JobRole</th>\n",
       "      <th>JobSatisfaction</th>\n",
       "      <th>MaritalStatus</th>\n",
       "      <th>MonthlyIncome</th>\n",
       "      <th>NumCompaniesWorked</th>\n",
       "      <th>Over18</th>\n",
       "      <th>OverTime</th>\n",
       "      <th>PercentSalaryHike</th>\n",
       "      <th>PerformanceRating</th>\n",
       "      <th>RelationshipSatisfaction</th>\n",
       "      <th>StockOptionLevel</th>\n",
       "      <th>TotalWorkingYears</th>\n",
       "      <th>TrainingTimesLastYear</th>\n",
       "      <th>WorkLifeBalance</th>\n",
       "      <th>YearsAtCompany</th>\n",
       "      <th>YearsInCurrentRole</th>\n",
       "      <th>YearsSinceLastPromotion</th>\n",
       "      <th>YearsWithCurrManager</th>\n",
       "    </tr>\n",
       "  </thead>\n",
       "  <tbody>\n",
       "    <tr>\n",
       "      <th>0</th>\n",
       "      <td>41</td>\n",
       "      <td>Yes</td>\n",
       "      <td>Travel_Rarely</td>\n",
       "      <td>Sales</td>\n",
       "      <td>1</td>\n",
       "      <td>2</td>\n",
       "      <td>Life Sciences</td>\n",
       "      <td>1</td>\n",
       "      <td>2</td>\n",
       "      <td>Female</td>\n",
       "      <td>3</td>\n",
       "      <td>2</td>\n",
       "      <td>Sales Executive</td>\n",
       "      <td>4</td>\n",
       "      <td>Single</td>\n",
       "      <td>5993</td>\n",
       "      <td>8</td>\n",
       "      <td>Y</td>\n",
       "      <td>Yes</td>\n",
       "      <td>11</td>\n",
       "      <td>3</td>\n",
       "      <td>1</td>\n",
       "      <td>0</td>\n",
       "      <td>8</td>\n",
       "      <td>0</td>\n",
       "      <td>1</td>\n",
       "      <td>6</td>\n",
       "      <td>4</td>\n",
       "      <td>0</td>\n",
       "      <td>5</td>\n",
       "    </tr>\n",
       "    <tr>\n",
       "      <th>1</th>\n",
       "      <td>49</td>\n",
       "      <td>No</td>\n",
       "      <td>Travel_Frequently</td>\n",
       "      <td>Research &amp; Development</td>\n",
       "      <td>8</td>\n",
       "      <td>1</td>\n",
       "      <td>Life Sciences</td>\n",
       "      <td>2</td>\n",
       "      <td>3</td>\n",
       "      <td>Male</td>\n",
       "      <td>2</td>\n",
       "      <td>2</td>\n",
       "      <td>Research Scientist</td>\n",
       "      <td>2</td>\n",
       "      <td>Married</td>\n",
       "      <td>5130</td>\n",
       "      <td>1</td>\n",
       "      <td>Y</td>\n",
       "      <td>No</td>\n",
       "      <td>23</td>\n",
       "      <td>4</td>\n",
       "      <td>4</td>\n",
       "      <td>1</td>\n",
       "      <td>10</td>\n",
       "      <td>3</td>\n",
       "      <td>3</td>\n",
       "      <td>10</td>\n",
       "      <td>7</td>\n",
       "      <td>1</td>\n",
       "      <td>7</td>\n",
       "    </tr>\n",
       "    <tr>\n",
       "      <th>2</th>\n",
       "      <td>37</td>\n",
       "      <td>Yes</td>\n",
       "      <td>Travel_Rarely</td>\n",
       "      <td>Research &amp; Development</td>\n",
       "      <td>2</td>\n",
       "      <td>2</td>\n",
       "      <td>Other</td>\n",
       "      <td>4</td>\n",
       "      <td>4</td>\n",
       "      <td>Male</td>\n",
       "      <td>2</td>\n",
       "      <td>1</td>\n",
       "      <td>Laboratory Technician</td>\n",
       "      <td>3</td>\n",
       "      <td>Single</td>\n",
       "      <td>2090</td>\n",
       "      <td>6</td>\n",
       "      <td>Y</td>\n",
       "      <td>Yes</td>\n",
       "      <td>15</td>\n",
       "      <td>3</td>\n",
       "      <td>2</td>\n",
       "      <td>0</td>\n",
       "      <td>7</td>\n",
       "      <td>3</td>\n",
       "      <td>3</td>\n",
       "      <td>0</td>\n",
       "      <td>0</td>\n",
       "      <td>0</td>\n",
       "      <td>0</td>\n",
       "    </tr>\n",
       "    <tr>\n",
       "      <th>3</th>\n",
       "      <td>33</td>\n",
       "      <td>No</td>\n",
       "      <td>Travel_Frequently</td>\n",
       "      <td>Research &amp; Development</td>\n",
       "      <td>3</td>\n",
       "      <td>4</td>\n",
       "      <td>Life Sciences</td>\n",
       "      <td>5</td>\n",
       "      <td>4</td>\n",
       "      <td>Female</td>\n",
       "      <td>3</td>\n",
       "      <td>1</td>\n",
       "      <td>Research Scientist</td>\n",
       "      <td>3</td>\n",
       "      <td>Married</td>\n",
       "      <td>2909</td>\n",
       "      <td>1</td>\n",
       "      <td>Y</td>\n",
       "      <td>Yes</td>\n",
       "      <td>11</td>\n",
       "      <td>3</td>\n",
       "      <td>3</td>\n",
       "      <td>0</td>\n",
       "      <td>8</td>\n",
       "      <td>3</td>\n",
       "      <td>3</td>\n",
       "      <td>8</td>\n",
       "      <td>7</td>\n",
       "      <td>3</td>\n",
       "      <td>0</td>\n",
       "    </tr>\n",
       "    <tr>\n",
       "      <th>4</th>\n",
       "      <td>27</td>\n",
       "      <td>No</td>\n",
       "      <td>Travel_Rarely</td>\n",
       "      <td>Research &amp; Development</td>\n",
       "      <td>2</td>\n",
       "      <td>1</td>\n",
       "      <td>Medical</td>\n",
       "      <td>7</td>\n",
       "      <td>1</td>\n",
       "      <td>Male</td>\n",
       "      <td>3</td>\n",
       "      <td>1</td>\n",
       "      <td>Laboratory Technician</td>\n",
       "      <td>2</td>\n",
       "      <td>Married</td>\n",
       "      <td>3468</td>\n",
       "      <td>9</td>\n",
       "      <td>Y</td>\n",
       "      <td>No</td>\n",
       "      <td>12</td>\n",
       "      <td>3</td>\n",
       "      <td>4</td>\n",
       "      <td>1</td>\n",
       "      <td>6</td>\n",
       "      <td>3</td>\n",
       "      <td>3</td>\n",
       "      <td>2</td>\n",
       "      <td>2</td>\n",
       "      <td>2</td>\n",
       "      <td>2</td>\n",
       "    </tr>\n",
       "  </tbody>\n",
       "</table>\n",
       "</div>"
      ],
      "text/plain": [
       "   Age Attrition     BusinessTravel              Department  DistanceFromHome  \\\n",
       "0   41       Yes      Travel_Rarely                   Sales                 1   \n",
       "1   49        No  Travel_Frequently  Research & Development                 8   \n",
       "2   37       Yes      Travel_Rarely  Research & Development                 2   \n",
       "3   33        No  Travel_Frequently  Research & Development                 3   \n",
       "4   27        No      Travel_Rarely  Research & Development                 2   \n",
       "\n",
       "   Education EducationField  EmployeeNumber  EnvironmentSatisfaction  Gender  \\\n",
       "0          2  Life Sciences               1                        2  Female   \n",
       "1          1  Life Sciences               2                        3    Male   \n",
       "2          2          Other               4                        4    Male   \n",
       "3          4  Life Sciences               5                        4  Female   \n",
       "4          1        Medical               7                        1    Male   \n",
       "\n",
       "   JobInvolvement  JobLevel                JobRole  JobSatisfaction  \\\n",
       "0               3         2        Sales Executive                4   \n",
       "1               2         2     Research Scientist                2   \n",
       "2               2         1  Laboratory Technician                3   \n",
       "3               3         1     Research Scientist                3   \n",
       "4               3         1  Laboratory Technician                2   \n",
       "\n",
       "  MaritalStatus  MonthlyIncome  NumCompaniesWorked Over18 OverTime  \\\n",
       "0        Single           5993                   8      Y      Yes   \n",
       "1       Married           5130                   1      Y       No   \n",
       "2        Single           2090                   6      Y      Yes   \n",
       "3       Married           2909                   1      Y      Yes   \n",
       "4       Married           3468                   9      Y       No   \n",
       "\n",
       "   PercentSalaryHike  PerformanceRating  RelationshipSatisfaction  \\\n",
       "0                 11                  3                         1   \n",
       "1                 23                  4                         4   \n",
       "2                 15                  3                         2   \n",
       "3                 11                  3                         3   \n",
       "4                 12                  3                         4   \n",
       "\n",
       "   StockOptionLevel  TotalWorkingYears  TrainingTimesLastYear  \\\n",
       "0                 0                  8                      0   \n",
       "1                 1                 10                      3   \n",
       "2                 0                  7                      3   \n",
       "3                 0                  8                      3   \n",
       "4                 1                  6                      3   \n",
       "\n",
       "   WorkLifeBalance  YearsAtCompany  YearsInCurrentRole  \\\n",
       "0                1               6                   4   \n",
       "1                3              10                   7   \n",
       "2                3               0                   0   \n",
       "3                3               8                   7   \n",
       "4                3               2                   2   \n",
       "\n",
       "   YearsSinceLastPromotion  YearsWithCurrManager  \n",
       "0                        0                     5  \n",
       "1                        1                     7  \n",
       "2                        0                     0  \n",
       "3                        3                     0  \n",
       "4                        2                     2  "
      ]
     },
     "execution_count": 1,
     "metadata": {},
     "output_type": "execute_result"
    }
   ],
   "source": [
    "import pandas as pd\n",
    "import numpy as np\n",
    "from matplotlib import pyplot as plt\n",
    "%matplotlib inline\n",
    "import seaborn as sns\n",
    "import scipy.stats as stats\n",
    "import statsmodels.formula.api as sm\n",
    "\n",
    "################ include this code when importing your libraries \n",
    "\n",
    "pd.set_option('display.max_columns', None) ## show all the columns in dataset\n",
    "pd.set_option('display.max_rows', None) ## show all rows in dataset\n",
    "\n",
    "################\n",
    "\n",
    "df = pd.read_excel(\"IBM Employee Attrition.xlsx\")\n",
    "\n",
    "df.head()"
   ]
  },
  {
   "cell_type": "code",
   "execution_count": 2,
   "id": "4cf40f97",
   "metadata": {},
   "outputs": [
    {
     "name": "stdout",
     "output_type": "stream",
     "text": [
      "No     1233\n",
      "Yes     237\n",
      "Name: Attrition, dtype: int64\n"
     ]
    },
    {
     "data": {
      "text/plain": [
       "<AxesSubplot:xlabel='Attrition', ylabel='count'>"
      ]
     },
     "execution_count": 2,
     "metadata": {},
     "output_type": "execute_result"
    },
    {
     "data": {
      "image/png": "[encoded data removed]",
      "text/plain": [
       "<Figure size 432x288 with 1 Axes>"
      ]
     },
     "metadata": {
      "needs_background": "light"
     },
     "output_type": "display_data"
    }
   ],
   "source": [
    "## check the coding of the dependent variable\n",
    "## the value coded as \"1\" should represent to the presence of the event\n",
    "\n",
    "###\n",
    "\n",
    "print(df[\"Attrition\"].value_counts())\n",
    "\n",
    "###\n",
    "\n",
    "sns.countplot(data = df, x = \"Attrition\")"
   ]
  },
  {
   "cell_type": "code",
   "execution_count": null,
   "id": "2be5e0a1",
   "metadata": {},
   "outputs": [],
   "source": [
    "#NO OUTLIERS REMOVED"
   ]
  },
  {
   "cell_type": "code",
   "execution_count": 3,
   "id": "a4e07fb8",
   "metadata": {},
   "outputs": [
    {
     "name": "stdout",
     "output_type": "stream",
     "text": [
      "Attrition\n",
      "No     7.369019\n",
      "Yes    5.130802\n",
      "Name: YearsAtCompany, dtype: float64\n"
     ]
    },
    {
     "data": {
      "text/plain": [
       "<AxesSubplot:xlabel='Attrition', ylabel='YearsAtCompany'>"
      ]
     },
     "execution_count": 3,
     "metadata": {},
     "output_type": "execute_result"
    },
    {
     "data": {
      "image/png": "[encoded data removed]",
      "text/plain": [
       "<Figure size 432x288 with 1 Axes>"
      ]
     },
     "metadata": {
      "needs_background": "light"
     },
     "output_type": "display_data"
    }
   ],
   "source": [
    "#df[\"YearsAtCompany\"].groupby (df[\"Attrition\"]).mean()#Females have longer history at the company\n",
    "print(df[\"YearsAtCompany\"].groupby(df[\"Attrition\"]).mean())\n",
    "sns.barplot(data = df, x = \"Attrition\", y = \"YearsAtCompany\", ci = None)"
   ]
  },
  {
   "cell_type": "code",
   "execution_count": 4,
   "id": "49975c15",
   "metadata": {},
   "outputs": [
    {
     "name": "stdout",
     "output_type": "stream",
     "text": [
      "Attrition\n",
      "No     2.778589\n",
      "Yes    2.468354\n",
      "Name: JobSatisfaction, dtype: float64\n"
     ]
    },
    {
     "data": {
      "text/plain": [
       "<AxesSubplot:xlabel='Attrition', ylabel='JobSatisfaction'>"
      ]
     },
     "execution_count": 4,
     "metadata": {},
     "output_type": "execute_result"
    },
    {
     "data": {
      "image/png": "[encoded data removed]",
      "text/plain": [
       "<Figure size 432x288 with 1 Axes>"
      ]
     },
     "metadata": {
      "needs_background": "light"
     },
     "output_type": "display_data"
    }
   ],
   "source": [
    "#df[\"JobSatisfaction\"].groupby(df[\"Attrition\"]).mean()\n",
    "print(df[\"JobSatisfaction\"].groupby(df[\"Attrition\"]).mean())\n",
    "sns.barplot(data = df, x = \"Attrition\", y = \"JobSatisfaction\", ci = None)"
   ]
  },
  {
   "cell_type": "code",
   "execution_count": 5,
   "id": "ec8ab66e",
   "metadata": {},
   "outputs": [
    {
     "name": "stdout",
     "output_type": "stream",
     "text": [
      "Attrition\n",
      "No     2.771290\n",
      "Yes    2.464135\n",
      "Name: EnvironmentSatisfaction, dtype: float64\n"
     ]
    },
    {
     "data": {
      "text/plain": [
       "<AxesSubplot:xlabel='Attrition', ylabel='EnvironmentSatisfaction'>"
      ]
     },
     "execution_count": 5,
     "metadata": {},
     "output_type": "execute_result"
    },
    {
     "data": {
      "image/png": "[encoded data removed]",
      "text/plain": [
       "<Figure size 432x288 with 1 Axes>"
      ]
     },
     "metadata": {
      "needs_background": "light"
     },
     "output_type": "display_data"
    }
   ],
   "source": [
    "#df[\"EnvironmentSatisfaction\"].groupby(df[\"Attrition\"]).mean()\n",
    "print(df[\"EnvironmentSatisfaction\"].groupby(df[\"Attrition\"]).mean())\n",
    "sns.barplot(data = df, x = \"Attrition\", y = \"EnvironmentSatisfaction\", ci = None)"
   ]
  },
  {
   "cell_type": "code",
   "execution_count": 6,
   "id": "e3bd0edf",
   "metadata": {},
   "outputs": [
    {
     "name": "stdout",
     "output_type": "stream",
     "text": [
      "Attrition\n",
      "No     6832.739659\n",
      "Yes    4787.092827\n",
      "Name: MonthlyIncome, dtype: float64\n"
     ]
    },
    {
     "data": {
      "text/plain": [
       "<AxesSubplot:xlabel='Attrition', ylabel='MonthlyIncome'>"
      ]
     },
     "execution_count": 6,
     "metadata": {},
     "output_type": "execute_result"
    },
    {
     "data": {
      "image/png": "[encoded data removed]",
      "text/plain": [
       "<Figure size 432x288 with 1 Axes>"
      ]
     },
     "metadata": {
      "needs_background": "light"
     },
     "output_type": "display_data"
    }
   ],
   "source": [
    "#df[\"MonthlyIncome\"].groupby(df[\"Attrition\"]).mean()\n",
    "print(df[\"MonthlyIncome\"].groupby(df[\"Attrition\"]).mean())\n",
    "sns.barplot(data = df, x = \"Attrition\", y = \"MonthlyIncome\", ci = None)"
   ]
  },
  {
   "cell_type": "code",
   "execution_count": 7,
   "id": "e3c3986d",
   "metadata": {},
   "outputs": [
    {
     "name": "stdout",
     "output_type": "stream",
     "text": [
      "Attrition\n",
      "No     2.234388\n",
      "Yes    1.945148\n",
      "Name: YearsSinceLastPromotion, dtype: float64\n"
     ]
    },
    {
     "data": {
      "text/plain": [
       "<AxesSubplot:xlabel='Attrition', ylabel='YearsSinceLastPromotion'>"
      ]
     },
     "execution_count": 7,
     "metadata": {},
     "output_type": "execute_result"
    },
    {
     "data": {
      "image/png": "[encoded data removed]",
      "text/plain": [
       "<Figure size 432x288 with 1 Axes>"
      ]
     },
     "metadata": {
      "needs_background": "light"
     },
     "output_type": "display_data"
    }
   ],
   "source": [
    "#df[\"YearsSinceLastPromotion\"].groupby(df[\"Attrition\"]).mean()\n",
    "\n",
    "print(df[\"YearsSinceLastPromotion\"].groupby(df[\"Attrition\"]).mean())\n",
    "sns.barplot(data = df, x = \"Attrition\", y = \"YearsSinceLastPromotion\", ci = None)"
   ]
  },
  {
   "cell_type": "code",
   "execution_count": 8,
   "id": "2bd4ce90",
   "metadata": {},
   "outputs": [
    {
     "name": "stdout",
     "output_type": "stream",
     "text": [
      "Attrition\n",
      "No      8.915653\n",
      "Yes    10.632911\n",
      "Name: DistanceFromHome, dtype: float64\n"
     ]
    },
    {
     "data": {
      "text/plain": [
       "<AxesSubplot:xlabel='Attrition', ylabel='DistanceFromHome'>"
      ]
     },
     "execution_count": 8,
     "metadata": {},
     "output_type": "execute_result"
    },
    {
     "data": {
      "image/png": "[encoded data removed]",
      "text/plain": [
       "<Figure size 432x288 with 1 Axes>"
      ]
     },
     "metadata": {
      "needs_background": "light"
     },
     "output_type": "display_data"
    }
   ],
   "source": [
    "print(df[\"DistanceFromHome\"].groupby(df[\"Attrition\"]).mean())\n",
    "sns.barplot(data = df, x = \"Attrition\", y = \"DistanceFromHome\", ci = None)"
   ]
  },
  {
   "cell_type": "code",
   "execution_count": 9,
   "id": "4ade1ca9",
   "metadata": {},
   "outputs": [
    {
     "name": "stdout",
     "output_type": "stream",
     "text": [
      "Attrition\n",
      "No     15.231144\n",
      "Yes    15.097046\n",
      "Name: PercentSalaryHike, dtype: float64\n"
     ]
    },
    {
     "data": {
      "text/plain": [
       "<AxesSubplot:xlabel='Attrition', ylabel='PercentSalaryHike'>"
      ]
     },
     "execution_count": 9,
     "metadata": {},
     "output_type": "execute_result"
    },
    {
     "data": {
      "image/png": "[encoded data removed]",
      "text/plain": [
       "<Figure size 432x288 with 1 Axes>"
      ]
     },
     "metadata": {
      "needs_background": "light"
     },
     "output_type": "display_data"
    }
   ],
   "source": [
    "print(df[\"PercentSalaryHike\"].groupby(df[\"Attrition\"]).mean())\n",
    "sns.barplot(data = df, x = \"Attrition\", y = \"PercentSalaryHike\", ci = None)"
   ]
  },
  {
   "cell_type": "code",
   "execution_count": 10,
   "id": "e058e421",
   "metadata": {},
   "outputs": [
    {
     "name": "stdout",
     "output_type": "stream",
     "text": [
      "Attrition\n",
      "No     11.862936\n",
      "Yes     8.244726\n",
      "Name: TotalWorkingYears, dtype: float64\n"
     ]
    },
    {
     "data": {
      "text/plain": [
       "<AxesSubplot:xlabel='Attrition', ylabel='TotalWorkingYears'>"
      ]
     },
     "execution_count": 10,
     "metadata": {},
     "output_type": "execute_result"
    },
    {
     "data": {
      "image/png": "[encoded data removed]",
      "text/plain": [
       "<Figure size 432x288 with 1 Axes>"
      ]
     },
     "metadata": {
      "needs_background": "light"
     },
     "output_type": "display_data"
    }
   ],
   "source": [
    "print(df[\"TotalWorkingYears\"].groupby(df[\"Attrition\"]).mean())\n",
    "sns.barplot(data = df, x = \"Attrition\", y = \"TotalWorkingYears\", ci = None)"
   ]
  },
  {
   "cell_type": "code",
   "execution_count": 11,
   "id": "247a5eaf",
   "metadata": {},
   "outputs": [],
   "source": [
    "df.loc[df[\"Attrition\"]=='Yes',\"Attrition\"]= 1\n",
    "df.loc[df[\"Attrition\"]=='No',\"Attrition\"]= 0\n",
    "df[['Attrition']]=df[['Attrition']].astype('int64')"
   ]
  },
  {
   "cell_type": "code",
   "execution_count": 13,
   "id": "1b42196f",
   "metadata": {},
   "outputs": [
    {
     "data": {
      "text/plain": [
       "0    1233\n",
       "1     237\n",
       "Name: Attrition, dtype: int64"
      ]
     },
     "execution_count": 13,
     "metadata": {},
     "output_type": "execute_result"
    }
   ],
   "source": [
    "df[\"Attrition\"].value_counts()"
   ]
  },
  {
   "cell_type": "code",
   "execution_count": 16,
   "id": "565ee7b5",
   "metadata": {},
   "outputs": [
    {
     "name": "stdout",
     "output_type": "stream",
     "text": [
      "Optimization terminated successfully.\n",
      "         Current function value: 0.403043\n",
      "         Iterations 7\n"
     ]
    },
    {
     "data": {
      "text/html": [
       "<table class=\"simpletable\">\n",
       "<caption>Logit Regression Results</caption>\n",
       "<tr>\n",
       "  <th>Dep. Variable:</th>       <td>Attrition</td>    <th>  No. Observations:  </th>  <td>  1470</td>  \n",
       "</tr>\n",
       "<tr>\n",
       "  <th>Model:</th>                 <td>Logit</td>      <th>  Df Residuals:      </th>  <td>  1461</td>  \n",
       "</tr>\n",
       "<tr>\n",
       "  <th>Method:</th>                 <td>MLE</td>       <th>  Df Model:          </th>  <td>     8</td>  \n",
       "</tr>\n",
       "<tr>\n",
       "  <th>Date:</th>            <td>Mon, 29 Nov 2021</td> <th>  Pseudo R-squ.:     </th>  <td>0.08751</td> \n",
       "</tr>\n",
       "<tr>\n",
       "  <th>Time:</th>                <td>16:08:20</td>     <th>  Log-Likelihood:    </th> <td> -592.47</td> \n",
       "</tr>\n",
       "<tr>\n",
       "  <th>converged:</th>             <td>True</td>       <th>  LL-Null:           </th> <td> -649.29</td> \n",
       "</tr>\n",
       "<tr>\n",
       "  <th>Covariance Type:</th>     <td>nonrobust</td>    <th>  LLR p-value:       </th> <td>6.801e-21</td>\n",
       "</tr>\n",
       "</table>\n",
       "<table class=\"simpletable\">\n",
       "<tr>\n",
       "             <td></td>                <th>coef</th>     <th>std err</th>      <th>z</th>      <th>P>|z|</th>  <th>[0.025</th>    <th>0.975]</th>  \n",
       "</tr>\n",
       "<tr>\n",
       "  <th>Intercept</th>               <td>    0.8445</td> <td>    0.437</td> <td>    1.931</td> <td> 0.053</td> <td>   -0.013</td> <td>    1.702</td>\n",
       "</tr>\n",
       "<tr>\n",
       "  <th>MonthlyIncome</th>           <td>-6.691e-05</td> <td> 3.03e-05</td> <td>   -2.208</td> <td> 0.027</td> <td>   -0.000</td> <td>-7.53e-06</td>\n",
       "</tr>\n",
       "<tr>\n",
       "  <th>DistanceFromHome</th>        <td>    0.0276</td> <td>    0.009</td> <td>    3.157</td> <td> 0.002</td> <td>    0.010</td> <td>    0.045</td>\n",
       "</tr>\n",
       "<tr>\n",
       "  <th>TotalWorkingYears</th>       <td>   -0.0445</td> <td>    0.019</td> <td>   -2.301</td> <td> 0.021</td> <td>   -0.082</td> <td>   -0.007</td>\n",
       "</tr>\n",
       "<tr>\n",
       "  <th>EnvironmentSatisfaction</th> <td>   -0.2823</td> <td>    0.067</td> <td>   -4.195</td> <td> 0.000</td> <td>   -0.414</td> <td>   -0.150</td>\n",
       "</tr>\n",
       "<tr>\n",
       "  <th>YearsSinceLastPromotion</th> <td>    0.1175</td> <td>    0.035</td> <td>    3.395</td> <td> 0.001</td> <td>    0.050</td> <td>    0.185</td>\n",
       "</tr>\n",
       "<tr>\n",
       "  <th>JobSatisfaction</th>         <td>   -0.2743</td> <td>    0.066</td> <td>   -4.132</td> <td> 0.000</td> <td>   -0.404</td> <td>   -0.144</td>\n",
       "</tr>\n",
       "<tr>\n",
       "  <th>PercentSalaryHike</th>       <td>   -0.0196</td> <td>    0.021</td> <td>   -0.950</td> <td> 0.342</td> <td>   -0.060</td> <td>    0.021</td>\n",
       "</tr>\n",
       "<tr>\n",
       "  <th>YearsAtCompany</th>          <td>   -0.0724</td> <td>    0.026</td> <td>   -2.820</td> <td> 0.005</td> <td>   -0.123</td> <td>   -0.022</td>\n",
       "</tr>\n",
       "</table>"
      ],
      "text/plain": [
       "<class 'statsmodels.iolib.summary.Summary'>\n",
       "\"\"\"\n",
       "                           Logit Regression Results                           \n",
       "==============================================================================\n",
       "Dep. Variable:              Attrition   No. Observations:                 1470\n",
       "Model:                          Logit   Df Residuals:                     1461\n",
       "Method:                           MLE   Df Model:                            8\n",
       "Date:                Mon, 29 Nov 2021   Pseudo R-squ.:                 0.08751\n",
       "Time:                        16:08:20   Log-Likelihood:                -592.47\n",
       "converged:                       True   LL-Null:                       -649.29\n",
       "Covariance Type:            nonrobust   LLR p-value:                 6.801e-21\n",
       "===========================================================================================\n",
       "                              coef    std err          z      P>|z|      [0.025      0.975]\n",
       "-------------------------------------------------------------------------------------------\n",
       "Intercept                   0.8445      0.437      1.931      0.053      -0.013       1.702\n",
       "MonthlyIncome           -6.691e-05   3.03e-05     -2.208      0.027      -0.000   -7.53e-06\n",
       "DistanceFromHome            0.0276      0.009      3.157      0.002       0.010       0.045\n",
       "TotalWorkingYears          -0.0445      0.019     -2.301      0.021      -0.082      -0.007\n",
       "EnvironmentSatisfaction    -0.2823      0.067     -4.195      0.000      -0.414      -0.150\n",
       "YearsSinceLastPromotion     0.1175      0.035      3.395      0.001       0.050       0.185\n",
       "JobSatisfaction            -0.2743      0.066     -4.132      0.000      -0.404      -0.144\n",
       "PercentSalaryHike          -0.0196      0.021     -0.950      0.342      -0.060       0.021\n",
       "YearsAtCompany             -0.0724      0.026     -2.820      0.005      -0.123      -0.022\n",
       "===========================================================================================\n",
       "\"\"\""
      ]
     },
     "execution_count": 16,
     "metadata": {},
     "output_type": "execute_result"
    }
   ],
   "source": [
    "#Logistic Regression\n",
    "mod1 = sm.logit('Attrition ~ MonthlyIncome + DistanceFromHome + TotalWorkingYears + EnvironmentSatisfaction + YearsSinceLastPromotion+JobSatisfaction+PercentSalaryHike+YearsAtCompany', data=df).fit()\n",
    "mod1.summary()"
   ]
  },
  {
   "cell_type": "code",
   "execution_count": 17,
   "id": "ce796cbf",
   "metadata": {},
   "outputs": [
    {
     "data": {
      "text/plain": [
       "Intercept                  0.844544\n",
       "MonthlyIncome             -0.000067\n",
       "DistanceFromHome           0.027644\n",
       "TotalWorkingYears         -0.044541\n",
       "EnvironmentSatisfaction   -0.282272\n",
       "YearsSinceLastPromotion    0.117521\n",
       "JobSatisfaction           -0.274280\n",
       "PercentSalaryHike         -0.019570\n",
       "YearsAtCompany            -0.072437\n",
       "dtype: float64"
      ]
     },
     "execution_count": 17,
     "metadata": {},
     "output_type": "execute_result"
    }
   ],
   "source": [
    "mod1.params"
   ]
  },
  {
   "cell_type": "code",
   "execution_count": 18,
   "id": "461f756b",
   "metadata": {},
   "outputs": [
    {
     "data": {
      "text/html": [
       "<div>\n",
       "<style scoped>\n",
       "    .dataframe tbody tr th:only-of-type {\n",
       "        vertical-align: middle;\n",
       "    }\n",
       "\n",
       "    .dataframe tbody tr th {\n",
       "        vertical-align: top;\n",
       "    }\n",
       "\n",
       "    .dataframe thead th {\n",
       "        text-align: right;\n",
       "    }\n",
       "</style>\n",
       "<table border=\"1\" class=\"dataframe\">\n",
       "  <thead>\n",
       "    <tr style=\"text-align: right;\">\n",
       "      <th></th>\n",
       "      <th>OR</th>\n",
       "      <th>pvalue</th>\n",
       "      <th>Sig</th>\n",
       "    </tr>\n",
       "  </thead>\n",
       "  <tbody>\n",
       "    <tr>\n",
       "      <th>Intercept</th>\n",
       "      <td>2.326917</td>\n",
       "      <td>0.053495</td>\n",
       "      <td>Not Sig</td>\n",
       "    </tr>\n",
       "    <tr>\n",
       "      <th>MonthlyIncome</th>\n",
       "      <td>0.999933</td>\n",
       "      <td>0.027213</td>\n",
       "      <td>Sig</td>\n",
       "    </tr>\n",
       "    <tr>\n",
       "      <th>DistanceFromHome</th>\n",
       "      <td>1.028029</td>\n",
       "      <td>0.001595</td>\n",
       "      <td>Sig</td>\n",
       "    </tr>\n",
       "    <tr>\n",
       "      <th>TotalWorkingYears</th>\n",
       "      <td>0.956436</td>\n",
       "      <td>0.021368</td>\n",
       "      <td>Sig</td>\n",
       "    </tr>\n",
       "    <tr>\n",
       "      <th>EnvironmentSatisfaction</th>\n",
       "      <td>0.754068</td>\n",
       "      <td>0.000027</td>\n",
       "      <td>Sig</td>\n",
       "    </tr>\n",
       "    <tr>\n",
       "      <th>YearsSinceLastPromotion</th>\n",
       "      <td>1.124705</td>\n",
       "      <td>0.000687</td>\n",
       "      <td>Sig</td>\n",
       "    </tr>\n",
       "    <tr>\n",
       "      <th>JobSatisfaction</th>\n",
       "      <td>0.760119</td>\n",
       "      <td>0.000036</td>\n",
       "      <td>Sig</td>\n",
       "    </tr>\n",
       "    <tr>\n",
       "      <th>PercentSalaryHike</th>\n",
       "      <td>0.980621</td>\n",
       "      <td>0.342183</td>\n",
       "      <td>Not Sig</td>\n",
       "    </tr>\n",
       "    <tr>\n",
       "      <th>YearsAtCompany</th>\n",
       "      <td>0.930124</td>\n",
       "      <td>0.004804</td>\n",
       "      <td>Sig</td>\n",
       "    </tr>\n",
       "  </tbody>\n",
       "</table>\n",
       "</div>"
      ],
      "text/plain": [
       "                               OR    pvalue      Sig\n",
       "Intercept                2.326917  0.053495  Not Sig\n",
       "MonthlyIncome            0.999933  0.027213      Sig\n",
       "DistanceFromHome         1.028029  0.001595      Sig\n",
       "TotalWorkingYears        0.956436  0.021368      Sig\n",
       "EnvironmentSatisfaction  0.754068  0.000027      Sig\n",
       "YearsSinceLastPromotion  1.124705  0.000687      Sig\n",
       "JobSatisfaction          0.760119  0.000036      Sig\n",
       "PercentSalaryHike        0.980621  0.342183  Not Sig\n",
       "YearsAtCompany           0.930124  0.004804      Sig"
      ]
     },
     "execution_count": 18,
     "metadata": {},
     "output_type": "execute_result"
    }
   ],
   "source": [
    " ## create a dataframe with the variable names, OR's and p-values\n",
    "# np.exp >> calculate the exponential of a given value\n",
    "\n",
    "df_odds = pd.DataFrame(np.exp(mod1.params), columns = ['OR'])\n",
    "\n",
    "## pull the pvalues directly from the model\n",
    "\n",
    "df_odds[\"pvalue\"] = mod1.pvalues\n",
    "\n",
    "## create a variable to quickly determine sig\n",
    "\n",
    "df_odds[\"Sig\"] = np.where(df_odds[\"pvalue\"] <= 0.05, \"Sig\", \"Not Sig\")\n",
    "\n",
    "## print new dataset\n",
    "\n",
    "df_odds"
   ]
  },
  {
   "cell_type": "code",
   "execution_count": 19,
   "id": "574f1bd9",
   "metadata": {},
   "outputs": [
    {
     "data": {
      "text/html": [
       "<div>\n",
       "<style scoped>\n",
       "    .dataframe tbody tr th:only-of-type {\n",
       "        vertical-align: middle;\n",
       "    }\n",
       "\n",
       "    .dataframe tbody tr th {\n",
       "        vertical-align: top;\n",
       "    }\n",
       "\n",
       "    .dataframe thead th {\n",
       "        text-align: right;\n",
       "    }\n",
       "</style>\n",
       "<table border=\"1\" class=\"dataframe\">\n",
       "  <thead>\n",
       "    <tr style=\"text-align: right;\">\n",
       "      <th></th>\n",
       "      <th>OR</th>\n",
       "      <th>pvalue</th>\n",
       "      <th>Sig</th>\n",
       "      <th>Pct Change</th>\n",
       "    </tr>\n",
       "  </thead>\n",
       "  <tbody>\n",
       "    <tr>\n",
       "      <th>Intercept</th>\n",
       "      <td>2.326917</td>\n",
       "      <td>0.053495</td>\n",
       "      <td>Not Sig</td>\n",
       "      <td>-97.673083</td>\n",
       "    </tr>\n",
       "    <tr>\n",
       "      <th>MonthlyIncome</th>\n",
       "      <td>0.999933</td>\n",
       "      <td>0.027213</td>\n",
       "      <td>Sig</td>\n",
       "      <td>-99.000067</td>\n",
       "    </tr>\n",
       "    <tr>\n",
       "      <th>DistanceFromHome</th>\n",
       "      <td>1.028029</td>\n",
       "      <td>0.001595</td>\n",
       "      <td>Sig</td>\n",
       "      <td>-98.971971</td>\n",
       "    </tr>\n",
       "    <tr>\n",
       "      <th>TotalWorkingYears</th>\n",
       "      <td>0.956436</td>\n",
       "      <td>0.021368</td>\n",
       "      <td>Sig</td>\n",
       "      <td>-99.043564</td>\n",
       "    </tr>\n",
       "    <tr>\n",
       "      <th>EnvironmentSatisfaction</th>\n",
       "      <td>0.754068</td>\n",
       "      <td>0.000027</td>\n",
       "      <td>Sig</td>\n",
       "      <td>-99.245932</td>\n",
       "    </tr>\n",
       "    <tr>\n",
       "      <th>YearsSinceLastPromotion</th>\n",
       "      <td>1.124705</td>\n",
       "      <td>0.000687</td>\n",
       "      <td>Sig</td>\n",
       "      <td>-98.875295</td>\n",
       "    </tr>\n",
       "    <tr>\n",
       "      <th>JobSatisfaction</th>\n",
       "      <td>0.760119</td>\n",
       "      <td>0.000036</td>\n",
       "      <td>Sig</td>\n",
       "      <td>-99.239881</td>\n",
       "    </tr>\n",
       "    <tr>\n",
       "      <th>PercentSalaryHike</th>\n",
       "      <td>0.980621</td>\n",
       "      <td>0.342183</td>\n",
       "      <td>Not Sig</td>\n",
       "      <td>-99.019379</td>\n",
       "    </tr>\n",
       "    <tr>\n",
       "      <th>YearsAtCompany</th>\n",
       "      <td>0.930124</td>\n",
       "      <td>0.004804</td>\n",
       "      <td>Sig</td>\n",
       "      <td>-99.069876</td>\n",
       "    </tr>\n",
       "  </tbody>\n",
       "</table>\n",
       "</div>"
      ],
      "text/plain": [
       "                               OR    pvalue      Sig  Pct Change\n",
       "Intercept                2.326917  0.053495  Not Sig  -97.673083\n",
       "MonthlyIncome            0.999933  0.027213      Sig  -99.000067\n",
       "DistanceFromHome         1.028029  0.001595      Sig  -98.971971\n",
       "TotalWorkingYears        0.956436  0.021368      Sig  -99.043564\n",
       "EnvironmentSatisfaction  0.754068  0.000027      Sig  -99.245932\n",
       "YearsSinceLastPromotion  1.124705  0.000687      Sig  -98.875295\n",
       "JobSatisfaction          0.760119  0.000036      Sig  -99.239881\n",
       "PercentSalaryHike        0.980621  0.342183  Not Sig  -99.019379\n",
       "YearsAtCompany           0.930124  0.004804      Sig  -99.069876"
      ]
     },
     "execution_count": 19,
     "metadata": {},
     "output_type": "execute_result"
    }
   ],
   "source": [
    "df_odds['Pct Change']= (df_odds['OR'] - 1 * 100)\n",
    "df_odds"
   ]
  },
  {
   "cell_type": "code",
   "execution_count": 55,
   "id": "3917913f",
   "metadata": {},
   "outputs": [
    {
     "data": {
      "text/plain": [
       "0    0.51387\n",
       "dtype: float64"
      ]
     },
     "execution_count": 55,
     "metadata": {},
     "output_type": "execute_result"
    }
   ],
   "source": [
    "mod1.predict({'MonthlyIncome': 3000,\n",
    "             'DistanceFromHome':3,\n",
    "             'TotalWorkingYears':5,\n",
    "             'EnvironmentSatisfaction':1,\n",
    "              'YearsSinceLastPromotion':5,\n",
    "             'JobSatisfaction':1,\n",
    "              'PercentSalaryHike':6,\n",
    "             'YearsAtCompany':5})"
   ]
  },
  {
   "cell_type": "code",
   "execution_count": 64,
   "id": "b8b38bd9",
   "metadata": {},
   "outputs": [
    {
     "data": {
      "text/plain": [
       "0    0.703348\n",
       "dtype: float64"
      ]
     },
     "execution_count": 64,
     "metadata": {},
     "output_type": "execute_result"
    }
   ],
   "source": [
    "mod1.predict({'MonthlyIncome': 3000,\n",
    "             'DistanceFromHome':30,\n",
    "             'TotalWorkingYears':10,\n",
    "             'EnvironmentSatisfaction':1,\n",
    "              'YearsSinceLastPromotion':10,\n",
    "             'JobSatisfaction':1,\n",
    "              'PercentSalaryHike':3,\n",
    "             'YearsAtCompany':10})"
   ]
  },
  {
   "cell_type": "code",
   "execution_count": 70,
   "id": "3589cf20",
   "metadata": {},
   "outputs": [
    {
     "data": {
      "text/plain": [
       "0    0.548076\n",
       "dtype: float64"
      ]
     },
     "execution_count": 70,
     "metadata": {},
     "output_type": "execute_result"
    }
   ],
   "source": [
    "mod1.predict({'MonthlyIncome': 3000,\n",
    "             'DistanceFromHome':10,\n",
    "             'TotalWorkingYears':10,\n",
    "             'EnvironmentSatisfaction':1,\n",
    "              'YearsSinceLastPromotion':9,\n",
    "             'JobSatisfaction':1,\n",
    "              'PercentSalaryHike':3,\n",
    "             'YearsAtCompany':10})"
   ]
  },
  {
   "cell_type": "code",
   "execution_count": null,
   "id": "34683937",
   "metadata": {},
   "outputs": [],
   "source": [
    "#The greatest change seems to be impacted by YearsSinceLastPromotion, DistanceFromHome"
   ]
  }
 ],
 "metadata": {
  "kernelspec": {
   "display_name": "Python 3",
   "language": "python",
   "name": "python3"
  },
  "language_info": {
   "codemirror_mode": {
    "name": "ipython",
    "version": 3
   },
   "file_extension": ".py",
   "mimetype": "text/x-python",
   "name": "python",
   "nbconvert_exporter": "python",
   "pygments_lexer": "ipython3",
   "version": "3.8.8"
  }
 },
 "nbformat": 4,
 "nbformat_minor": 5
}
